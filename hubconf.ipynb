{
  "nbformat": 4,
  "nbformat_minor": 0,
  "metadata": {
    "colab": {
      "provenance": []
    },
    "kernelspec": {
      "name": "python3",
      "display_name": "Python 3"
    },
    "language_info": {
      "name": "python"
    }
  },
  "cells": [
    {
      "cell_type": "code",
      "execution_count": 1,
      "metadata": {
        "id": "IpSWQtMBVqu-"
      },
      "outputs": [],
      "source": [
        "import torch\n",
        "from torch import nn\n",
        "\n",
        "def kali():\n",
        "  print ('kali')\n",
        "  \n",
        "# Define a neural network YOUR ROLL NUMBER (all small letters) should prefix the classname\n",
        "class YourRollNumberNN(nn.Module):\n",
        "  pass\n",
        "  # ... your code ...\n",
        "  # ... write init and forward functions appropriately ...\n",
        "    \n",
        "# sample invocation torch.hub.load(myrepo,'get_model',train_data_loader=train_data_loader,n_epochs=5, force_reload=True)\n",
        "def get_model(train_data_loader=None, n_epochs=10):\n",
        "  model = None\n",
        "\n",
        "  # write your code here as per instructions\n",
        "  # ... your code ...\n",
        "  # ... your code ...\n",
        "  # ... and so on ...\n",
        "  # Use softmax and cross entropy loss functions\n",
        "  # set model variable to proper object, make use of train_data\n",
        "  \n",
        "  print ('Returning model... (rollnumber: xx)')\n",
        "  \n",
        "  return model\n",
        "\n",
        "# sample invocation torch.hub.load(myrepo,'get_model_advanced',train_data_loader=train_data_loader,n_epochs=5, force_reload=True)\n",
        "def get_model_advanced(train_data_loader=None, n_epochs=10,lr=1e-4,config=None):\n",
        "  model = None\n",
        "\n",
        "  # write your code here as per instructions\n",
        "  # ... your code ...\n",
        "  # ... your code ...\n",
        "  # ... and so on ...\n",
        "  # Use softmax and cross entropy loss functions\n",
        "  # set model variable to proper object, make use of train_data\n",
        "  \n",
        "  # In addition,\n",
        "  # Refer to config dict, where learning rate is given, \n",
        "  # List of (in_channels, out_channels, kernel_size, stride=1, padding='same')  are specified\n",
        "  # Example, config = [(1,10,(3,3),1,'same'), (10,3,(5,5),1,'same'), (3,1,(7,7),1,'same')], it can have any number of elements\n",
        "  # You need to create 2d convoution layers as per specification above in each element\n",
        "  # You need to add a proper fully connected layer as the last layer\n",
        "  \n",
        "  # HINT: You can print sizes of tensors to get an idea of the size of the fc layer required\n",
        "  # HINT: Flatten function can also be used if required\n",
        "  return model\n",
        "  \n",
        "  \n",
        "  print ('Returning model... (rollnumber: xx)')\n",
        "  \n",
        "  return model\n",
        "\n",
        "# sample invocation torch.hub.load(myrepo,'test_model',model1=model,test_data_loader=test_data_loader,force_reload=True)\n",
        "def test_model(model1=None, test_data_loader=None):\n",
        "\n",
        "  accuracy_val, precision_val, recall_val, f1score_val = 0, 0, 0, 0\n",
        "  # write your code here as per instructions\n",
        "  # ... your code ...\n",
        "  # ... your code ...\n",
        "  # ... and so on ...\n",
        "  # calculate accuracy, precision, recall and f1score\n",
        "  \n",
        "  print ('Returning metrics... (rollnumber: xx)')\n",
        "  \n",
        "  return accuracy_val, precision_val, recall_val, f1score_val\n"
      ]
    }
  ]
}