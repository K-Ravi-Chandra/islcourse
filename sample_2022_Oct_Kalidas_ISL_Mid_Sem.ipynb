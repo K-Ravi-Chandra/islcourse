{
  "nbformat": 4,
  "nbformat_minor": 0,
  "metadata": {
    "colab": {
      "provenance": []
    },
    "kernelspec": {
      "name": "python3",
      "display_name": "Python 3"
    },
    "language_info": {
      "name": "python"
    }
  },
  "cells": [
    {
      "cell_type": "code",
      "execution_count": 1,
      "metadata": {
        "id": "BrRK82ACYb3u"
      },
      "outputs": [],
      "source": [
        "import torch\n",
        "from torch import nn\n",
        "from torch.utils.data import Dataset, DataLoader\n",
        "from torchvision import datasets\n",
        "from torchvision.transforms import ToTensor, ToPILImage\n",
        "from PIL import Image"
      ]
    },
    {
      "cell_type": "code",
      "source": [
        "transform_tensor_to_pil = ToPILImage()\n",
        "transform_pil_to_tensor = ToTensor()"
      ],
      "metadata": {
        "id": "2vl2dlZg0CSp"
      },
      "execution_count": 2,
      "outputs": []
    },
    {
      "cell_type": "markdown",
      "source": [
        "# Evaluation will load different dataset or different subsets"
      ],
      "metadata": {
        "id": "DlXVNwOmjnAk"
      }
    },
    {
      "cell_type": "markdown",
      "source": [
        "## Any data set may be loaded"
      ],
      "metadata": {
        "id": "HB6q37Rr3P0i"
      }
    },
    {
      "cell_type": "code",
      "source": [
        "def load_data():\n",
        "\n",
        "    # Download training data from open datasets.\n",
        "    training_data = datasets.FashionMNIST(\n",
        "        root=\"data\",\n",
        "        train=True,\n",
        "        download=False,\n",
        "        transform=ToTensor(),\n",
        "    )\n",
        "\n",
        "    # Download test data from open datasets.\n",
        "    test_data = datasets.FashionMNIST(\n",
        "        root=\"data\",\n",
        "        train=False,\n",
        "        download=False,\n",
        "        transform=ToTensor(),\n",
        "    )\n",
        "    \n",
        "    return training_data, test_data"
      ],
      "metadata": {
        "id": "qbsSpkakjY1N"
      },
      "execution_count": null,
      "outputs": []
    },
    {
      "cell_type": "markdown",
      "source": [
        "## sizes may be modified"
      ],
      "metadata": {
        "id": "cJEHI2nA3SVp"
      }
    },
    {
      "cell_type": "code",
      "source": [
        "class ModifiedDataset(Dataset):\n",
        "  def __init__(self,given_dataset,shrink_percent=10):\n",
        "    self.given_dataset = given_dataset\n",
        "    self.shrink_percent = shrink_percent\n",
        "    \n",
        "  def __len__(self):\n",
        "    return len(self.given_dataset)\n",
        "\n",
        "  def __getitem__(self,idx):\n",
        "    img, lab = self.given_dataset[idx]\n",
        "\n",
        "    # print (type(img))\n",
        "    # print (img.shape)\n",
        "\n",
        "    img2 = transform_tensor_to_pil(img.squeeze())\n",
        "\n",
        "    # print (img2.size)\n",
        "    \n",
        "    new_w = int(img2.size[0]*(1-self.shrink_percent/100.0))\n",
        "    new_h = int(img2.size[1]*(1-self.shrink_percent/100.0))\n",
        "\n",
        "    # print (new_w, new_h)\n",
        "\n",
        "    img3 = img2.resize((new_w,new_h))\n",
        "\n",
        "    # print (img3.size)\n",
        "\n",
        "    x = transform_pil_to_tensor(img3)\n",
        "\n",
        "    # print (x.shape)\n",
        "\n",
        "    return x,lab"
      ],
      "metadata": {
        "id": "DUGUymF0xflO"
      },
      "execution_count": null,
      "outputs": []
    },
    {
      "cell_type": "code",
      "source": [
        "training_data, test_data = load_data()\n",
        "mod_train_data = ModifiedDataset(training_data)\n",
        "mod_test_data = ModifiedDataset(test_data)\n",
        "\n",
        "print (training_data[0][0].shape)\n",
        "print (mod_train_data[0][0].shape)"
      ],
      "metadata": {
        "colab": {
          "base_uri": "https://localhost:8080/"
        },
        "id": "xy8dezKK0yyI",
        "outputId": "35b1b8da-a3dc-491e-a9fc-5be314fc51d5"
      },
      "execution_count": null,
      "outputs": [
        {
          "output_type": "stream",
          "name": "stdout",
          "text": [
            "torch.Size([1, 28, 28])\n",
            "torch.Size([1, 25, 25])\n"
          ]
        }
      ]
    },
    {
      "cell_type": "code",
      "source": [
        "def create_dataloaders(training_data, test_data, batch_size=64):\n",
        "\n",
        "    # Create data loaders.\n",
        "    train_dataloader = DataLoader(training_data, batch_size=batch_size)\n",
        "    test_dataloader = DataLoader(test_data, batch_size=batch_size)\n",
        "\n",
        "    for X, y in test_dataloader:\n",
        "        print(f\"Shape of X [N, C, H, W]: {X.shape}\")\n",
        "        print(f\"Shape of y: {y.shape} {y.dtype}\")\n",
        "        break\n",
        "        \n",
        "    return train_dataloader, test_dataloader"
      ],
      "metadata": {
        "id": "PKeZaTYcjzRw"
      },
      "execution_count": null,
      "outputs": []
    },
    {
      "cell_type": "markdown",
      "source": [
        "# Sample code invocation"
      ],
      "metadata": {
        "id": "FfGCV-1Rj2MC"
      }
    },
    {
      "cell_type": "code",
      "source": [
        "examplerollnum = 'ykalidas'\n",
        "\n",
        "examplerepo = examplerollnum + 'iittp/islcourse:midsem'\n",
        "\n",
        "entrypoints = torch.hub.list(examplerepo,force_reload=True)\n",
        "\n",
        "print (entrypoints)\n",
        "\n",
        "train_data_loader1 = None\n",
        "\n",
        "# model = torch.hub.load(examplerepo,'get_model',train_data=train_data,n_epochs=5, force_reload=True)\n",
        "config1 = [(1,10,(3,3),1,'same'), (10,3,(5,5),1,'same'), (3,1,(7,7),1,'same')]\n",
        "model = torch.hub.load(examplerepo,'get_model_advanced',train_data_loader=train_data_loader1,n_epochs=10, lr=1e-4,config=config1, force_reload=True)\n",
        "\n",
        "print (model)\n",
        "\n",
        "test_data_loader1 = None\n",
        "\n",
        "a,p,r,f1 = torch.hub.load(examplerepo,'test_model',model1=model,test_data_loader=test_data_loader1,force_reload=True)\n",
        "\n",
        "print (a,p,r,f1)\n"
      ],
      "metadata": {
        "colab": {
          "base_uri": "https://localhost:8080/"
        },
        "id": "K_cOGqmOYsdy",
        "outputId": "6731205a-bf57-431f-c9a7-8baaed523876"
      },
      "execution_count": null,
      "outputs": [
        {
          "output_type": "stream",
          "name": "stderr",
          "text": [
            "Downloading: \"https://github.com/ykalidasiittp/islcourse/zipball/midsem\" to /root/.cache/torch/hub/midsem.zip\n"
          ]
        },
        {
          "output_type": "stream",
          "name": "stdout",
          "text": [
            "['YourRollNumberNN', 'get_model', 'get_model_advanced', 'kali', 'test_model']\n",
            "None\n",
            "Returning metrics... (rollnumber: xx)\n",
            "0 0 0 0\n"
          ]
        },
        {
          "output_type": "stream",
          "name": "stderr",
          "text": [
            "Downloading: \"https://github.com/ykalidasiittp/islcourse/zipball/midsem\" to /root/.cache/torch/hub/midsem.zip\n",
            "Downloading: \"https://github.com/ykalidasiittp/islcourse/zipball/midsem\" to /root/.cache/torch/hub/midsem.zip\n"
          ]
        }
      ]
    }
  ]
}